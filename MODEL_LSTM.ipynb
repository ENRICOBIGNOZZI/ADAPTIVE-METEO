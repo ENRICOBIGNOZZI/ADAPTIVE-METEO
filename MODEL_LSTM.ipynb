{
  "nbformat": 4,
  "nbformat_minor": 0,
  "metadata": {
    "colab": {
      "provenance": []
    },
    "kernelspec": {
      "name": "python3",
      "display_name": "Python 3"
    },
    "language_info": {
      "name": "python"
    }
  },
  "cells": [
    {
      "cell_type": "code",
      "execution_count": null,
      "metadata": {
        "id": "G0quYj0H2B2C"
      },
      "outputs": [],
      "source": [
        "class Model(nn.Module):\n",
        "    \"\"\"Layer comprising a convolution layer followed by LSTM and dense layers.\"\"\"\n",
        "    def __init__(\n",
        "        self,\n",
        "        seq_len,\n",
        "        pred_len,\n",
        "        n_features,\n",
        "        batch_size,\n",
        "        hidden,\n",
        "        nlayers,\n",
        "        dropout\n",
        "    ):\n",
        "        super(Model, self).__init__()\n",
        "        self.seq_len = seq_len\n",
        "        self.pred_len=pred_len\n",
        "        self.hidden=hidden\n",
        "        self.n_features=n_features\n",
        "        self.batch_size=batch_size\n",
        "        self.nlayers=nlayers\n",
        "        self.dropout = dropout\n",
        "\n",
        "        self.bn1 = nn.BatchNorm1d(self.n_features)\n",
        "        self.lstm1 = nn.LSTM(self.n_features, self.hidden, num_layers=self.nlayers, batch_first=True, dropout=self.dropout)\n",
        "        self.bn2 = nn.BatchNorm1d(self.hidden)\n",
        "        self.lstm2 = nn.LSTM(self.hidden, self.hidden * 2, num_layers=self.nlayers, batch_first=True, dropout=self.dropout)\n",
        "        self.bn3 = nn.BatchNorm1d(self.hidden * 2)\n",
        "        self.lstm3 = nn.LSTM(self.hidden * 2, self.hidden * 4, num_layers=self.nlayers, batch_first=True, dropout=self.dropout)\n",
        "        self.bn4 = nn.BatchNorm1d(self.hidden * 4)\n",
        "        self.dense1 = nn.Linear(self.hidden * 4, self.hidden * 2)\n",
        "        self.bn5 = nn.BatchNorm1d(self.hidden * 2)\n",
        "        self.dense2 = nn.Linear(self.hidden * 2, self.hidden)\n",
        "        self.bn6 = nn.BatchNorm1d(self.hidden)\n",
        "        self.dense3 = nn.Linear(self.hidden, 1)\n",
        "\n",
        "\n",
        "    def forward(self, inputs):\n",
        "        \"\"\"Forward pass.\n",
        "\n",
        "        Args:\n",
        "            inputs: torch.Tensor of shape `(batch_size, input_seq_len, num_nodes, in_feat)`\n",
        "\n",
        "        Returns:\n",
        "            A tensor of shape `(batch_size, output_seq_len, num_nodes)`.\n",
        "        \"\"\"\n",
        "        inputs=self.bn1(inputs.permute(0,2,1)).permute(0,2,1)\n",
        "        lstm1_out,_ = self.lstm1(inputs)\n",
        "        lstm1_out=self.bn2(lstm1_out.permute(0,2,1)).permute(0,2,1)\n",
        "        lstm2_out,_ = self.lstm2(lstm1_out)\n",
        "        lstm2_out=self.bn3(lstm2_out.permute(0,2,1)).permute(0,2,1)\n",
        "        lstm3_out,_ = self.lstm3(lstm2_out)\n",
        "        lstm3_out=self.bn4(lstm3_out.permute(0,2,1)).permute(0,2,1)\n",
        "        dense1_out = self.dense1(lstm3_out)\n",
        "        dense1_out=self.bn5(dense1_out.permute(0,2,1)).permute(0,2,1)\n",
        "        dense2_out = self.dense2(dense1_out)\n",
        "        dense2_out=self.bn6(dense2_out.permute(0,2,1)).permute(0,2,1)\n",
        "        dense3_out = self.dense3(dense2_out)\n",
        "        dense3_out = dense3_out[:, -self.pred_len:,:]\n",
        "        return dense3_out"
      ]
    }
  ]
}